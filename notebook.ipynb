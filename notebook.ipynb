{
 "cells": [
  {
   "cell_type": "markdown",
   "metadata": {},
   "source": [
    "## Convolutional Neural Networks\n",
    "\n",
    "CNNs son especialmente útiles para clasificación y reconocimiento de imágenes."
   ]
  },
  {
   "cell_type": "markdown",
   "metadata": {},
   "source": [
    "CNN poseen a grandes rasgos dos componentes principales:\n",
    "    1. Las capas ocultas (feature extraction)\n",
    "    2. Clasificación\n",
    "    \n",
    "![Generator](img/1_NQQiyYqJJj4PSYAeWvxutg.png)"
   ]
  },
  {
   "cell_type": "markdown",
   "metadata": {},
   "source": [
    "### Feature Extraction\n",
    "\n",
    "En este componente se realizan operaciones de **convolucion** y **pooling** en las cuales los patrones son detectados.\n",
    "\n",
    "Si se buscara reconocer una zebra por ejemplo, esta etapa reconocería las rayas, dos oídos y cuatro patas."
   ]
  },
  {
   "cell_type": "markdown",
   "metadata": {},
   "source": [
    "#### Convolución\n",
    "\n",
    "En la convolución se dice que se convoluciona la imagen de entrada con un **kernel** o **filtro** para generar un **feature map**. Para realizar la convolución se mueve el filtro sobre la imagen de entrada multiplicando y sumando el resultado en el *feature map*. \n",
    "\n",
    "En la siguiente imágen peude observarse claramente cómo se realiza dicha operación.\n",
    "![conv](img/1_VVvdh-BUKFh2pwDD0kPeRA@2x.gif)\n",
    "\n",
    "En la práctica se realizan numerosas convoluciones sobre la entrada usando diferentes filtros. Esto genera numerosos *feature maps* los cuales se los junta para obtener la salida final de la capa de convolución."
   ]
  },
  {
   "cell_type": "markdown",
   "metadata": {},
   "source": [
    "#### Función de activación\n",
    "\n",
    "Como en cualquier otra red neuronal, se usa una **función de activación** para que la salida sea no lineal. Por ejemplo la función ReLU (Rectified Linear Units - https://github.com/Kulbear/deep-learning-nano-foundation/wiki/ReLU-and-Softmax-Activation-Functions)\n",
    "\n",
    "$$ f(x) = max(x, 0) $$"
   ]
  },
  {
   "cell_type": "markdown",
   "metadata": {},
   "source": [
    "#### Stride\n",
    "\n",
    "Stride se le llama al *paso* (cantidad de pixels) que el filtro debe moverse a cada iteración. Usualmente es 1. Aumentando dicho número puede reducirse el overlap.\n",
    "\n",
    "![stride](img/0_iqNdZWyNeCr5tCkc_.gif)"
   ]
  },
  {
   "cell_type": "markdown",
   "metadata": {},
   "source": [
    "#### Padding\n",
    "\n",
    "El tamaño del *feature map* es SIEMPRE menor que el input. Es por eso que se debe usar **padding**.\n",
    "\n",
    "Una capa de pixels nulos (valor cero) se agrega al input, rodeando al mismo de ceros y aumentando de esa forma su tamaño. De esta forma se logra que no se reduzca el *feature map*. El ejemplo de stride superior incluye un padding representado por los cuadrados de linea punteada.\n",
    "\n",
    "El padding además, mejora la performance y se asegura que el tamaño del kernel y del stride sean coherentes con la entrada."
   ]
  },
  {
   "cell_type": "markdown",
   "metadata": {},
   "source": [
    "#### Pooling\n",
    "\n",
    "Luego de una capa de convolución, es común agregar una capa de **pooling**. Su función es reducir continuamente las dimensiones reduciendo la complejidad de la red.\n",
    "\n",
    "Lo mismo decrementa el tiempo de entrenamiento y reduce el overfitting.\n",
    "\n",
    "##### Max Pooling\n",
    "\n",
    "El modo más común de pooling se llama **max pooling** el cual toma el máximo valor de cada ventana. En la siguiente figura se muestra un ejemplo de max pooling:\n",
    "\n",
    "![stride](img/1_vbfPq-HvBCkAcZhiSTZybg.png)"
   ]
  },
  {
   "cell_type": "markdown",
   "metadata": {},
   "source": [
    "#### Resumen\n",
    "\n",
    "Al usar una CNN hay 4 hiperparámetros importantes entre los cuales decidir:\n",
    "\n",
    "1. Kernel size\n",
    "2. Filter count (cuantos filtros usar)\n",
    "3. Stride\n",
    "4. Padding\n",
    "\n",
    "Visualización de una capa convolucional:\n",
    "\n",
    "![stride](img/1__34EtrgYk6cQxlJ2br51HQ.gif)"
   ]
  },
  {
   "cell_type": "code",
   "execution_count": null,
   "metadata": {},
   "outputs": [],
   "source": [
    "### Classification\n",
    "\n",
    "Ocurre luego de las capas de convolución y pooling.\n",
    "\n",
    "Clasifica como una red convencional sobre los patrones obtenidos.\n",
    "\n",
    "La parte de clasificación simplemente consiste en una red fully connected convirtiendo la matriz 3D (o 2D si es grayscale) en un vector 1D.\n",
    "\n",
    "La red se entrena igual que cualquier otra red, usando backpropagation / gradient descent."
   ]
  }
 ],
 "metadata": {
  "kernelspec": {
   "display_name": "Python 3",
   "language": "python",
   "name": "python3"
  },
  "language_info": {
   "codemirror_mode": {
    "name": "ipython",
    "version": 3
   },
   "file_extension": ".py",
   "mimetype": "text/x-python",
   "name": "python",
   "nbconvert_exporter": "python",
   "pygments_lexer": "ipython3",
   "version": "3.6.5"
  },
  "toc": {
   "colors": {
    "hover_highlight": "#DAA520",
    "navigate_num": "#000000",
    "navigate_text": "#333333",
    "running_highlight": "#FF0000",
    "selected_highlight": "#FFD700",
    "sidebar_border": "#EEEEEE",
    "wrapper_background": "#FFFFFF"
   },
   "moveMenuLeft": true,
   "nav_menu": {
    "height": "178px",
    "width": "252px"
   },
   "navigate_menu": true,
   "number_sections": true,
   "sideBar": true,
   "threshold": 4,
   "toc_cell": false,
   "toc_section_display": "block",
   "toc_window_display": false,
   "widenNotebook": false
  }
 },
 "nbformat": 4,
 "nbformat_minor": 2
}
