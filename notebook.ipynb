{
 "cells": [
  {
   "cell_type": "markdown",
   "metadata": {},
   "source": [
    "# Convolutional Neural Networks\n",
    "\n",
    "CNNs son especialmente útiles para clasificación y reconocimiento de imágenes."
   ]
  },
  {
   "cell_type": "markdown",
   "metadata": {},
   "source": [
    "CNN poseen a grandes rasgos dos componentes principales:\n",
    "    1. Las capas ocultas (feature extraction)\n",
    "    2. Clasificación\n",
    "    \n",
    "![Generator](img/1_NQQiyYqJJj4PSYAeWvxutg.png)"
   ]
  },
  {
   "cell_type": "markdown",
   "metadata": {},
   "source": [
    "## Feature Extraction\n",
    "\n",
    "En este componente se realizan operaciones de **convolucion** y **pooling** en las cuales los patrones son detectados.\n",
    "\n",
    "Si se buscara reconocer una zebra por ejemplo, esta etapa reconocería las rayas, dos oídos y cuatro patas."
   ]
  },
  {
   "cell_type": "markdown",
   "metadata": {},
   "source": [
    "### Convolución\n",
    "\n",
    "En la convolución se dice que se convoluciona la imagen de entrada con un **kernel** o **filtro** para generar un **feature map**. Para realizar la convolución se mueve el filtro sobre la imagen de entrada multiplicando y sumando el resultado en el *feature map*. \n",
    "\n",
    "En la siguiente imágen peude observarse claramente cómo se realiza dicha operación.\n",
    "![conv](img/1_VVvdh-BUKFh2pwDD0kPeRA@2x.gif)\n",
    "\n",
    "En la práctica se realizan numerosas convoluciones sobre la entrada usando diferentes filtros. Esto genera numerosos *feature maps* los cuales se los junta para obtener la salida final de la capa de convolución."
   ]
  },
  {
   "cell_type": "markdown",
   "metadata": {},
   "source": [
    "### Función de activación\n",
    "\n",
    "Como en cualquier otra red neuronal, se usa una **función de activación** para que la salida sea no lineal. Por ejemplo la función ReLU (Rectified Linear Units - https://github.com/Kulbear/deep-learning-nano-foundation/wiki/ReLU-and-Softmax-Activation-Functions)\n",
    "\n",
    "$$ f(x) = max(x, 0) $$"
   ]
  },
  {
   "cell_type": "markdown",
   "metadata": {},
   "source": [
    "### Stride\n",
    "\n",
    "Stride se le llama al *paso* (cantidad de pixels) que el filtro debe moverse a cada iteración. Usualmente es 1. Aumentando dicho número puede reducirse el overlap.\n",
    "\n",
    "![stride](img/0_iqNdZWyNeCr5tCkc_.gif)"
   ]
  },
  {
   "cell_type": "markdown",
   "metadata": {},
   "source": [
    "### Padding\n",
    "\n",
    "El tamaño del *feature map* es SIEMPRE menor que el input. Es por eso que se debe usar **padding**.\n",
    "\n",
    "Una capa de pixels nulos (valor cero) se agrega al input, rodeando al mismo de ceros y aumentando de esa forma su tamaño. De esta forma se logra que no se reduzca el *feature map*. El ejemplo de stride superior incluye un padding representado por los cuadrados de linea punteada.\n",
    "\n",
    "El padding además, mejora la performance y se asegura que el tamaño del kernel y del stride sean coherentes con la entrada."
   ]
  },
  {
   "cell_type": "markdown",
   "metadata": {},
   "source": [
    "### Pooling\n",
    "\n",
    "Luego de una capa de convolución, es común agregar una capa de **pooling**. Su función es reducir continuamente las dimensiones reduciendo la complejidad de la red.\n",
    "\n",
    "Lo mismo decrementa el tiempo de entrenamiento y reduce el overfitting.\n",
    "\n",
    "#### Max Pooling\n",
    "\n",
    "El modo más común de pooling se llama **max pooling** el cual toma el máximo valor de cada ventana. En la siguiente figura se muestra un ejemplo de max pooling:\n",
    "\n",
    "![stride](img/1_vbfPq-HvBCkAcZhiSTZybg.png)"
   ]
  },
  {
   "cell_type": "markdown",
   "metadata": {},
   "source": [
    "#### Resumen\n",
    "\n",
    "Al usar una CNN hay 4 hiperparámetros importantes entre los cuales decidir:\n",
    "\n",
    "1. Kernel size\n",
    "2. Filter count (cuantos filtros usar)\n",
    "3. Stride\n",
    "4. Padding\n",
    "\n",
    "Visualización de una capa convolucional:\n",
    "\n",
    "![stride](img/1__34EtrgYk6cQxlJ2br51HQ.gif)"
   ]
  },
  {
   "cell_type": "markdown",
   "metadata": {},
   "source": [
    "## Classification\n",
    "\n",
    "Ocurre luego de las capas de convolución y pooling.\n",
    "\n",
    "Clasifica como una red convencional sobre los patrones obtenidos.\n",
    "\n",
    "La parte de clasificación simplemente consiste en una red fully connected convirtiendo la matriz 3D (o 2D si es grayscale) en un vector 1D.\n",
    "\n",
    "La red se entrena igual que cualquier otra red, usando backpropagation / gradient descent."
   ]
  },
  {
   "cell_type": "markdown",
   "metadata": {},
   "source": [
    "# Sobre el problema \n",
    "## Tuberculosis\n",
    "La tuberculosis es una enfermedad infecciosa que pese a estar disminuyendo sigue entrando dentro de las 10 mayores causas de muerte a nivel mundial según la organización mundial de la salud. Que sea una enfermedad infecciosa significa que esta causada por microorganismos como bacterias u hongos, particularmente, la tuberculosis es la enfermedad con mayor cantidad de muertes a nivel mundial de este tipo.\n",
    "Sus principales síntomas son la toz crónica, con posiblidad de sangre en el esputo, fiebre, sudores nocturnos y perdida de peso. La enfermedad afecta principalmente a los pulmones pero puede propagarse a otros órganos, lo que dificulta su diagnostico.\n",
    "## Diagnostico\n",
    "El diagnostico temprano es clave para reducir la mortalidad de la enfermedad por lo que contar con mejores métodos y técnicas más rápidas para el mismo es algo que resultaría extremadamente bueno.\n",
    "El diagnostico de tuberculosis pulmonar puede ser complicado debido a los sintomás poco especificos y la imposibilidad de aislar los organismos. Las placas de pecho son una de las principales herramientas para el diagnostico de esta enfermedad ya que al ser la tuberculosis una enfermedad infecciosa provoca una inflamación de los ganglios linfáticos en los pulmones.\n",
    "![stride](img\\Tuberculosis-x-ray-1.jpg)\n",
    "Si bien en la imagen las anormalidades son facilmente distinguibles, esto no siempre es el caso y según un estudio realizado el porcentaje de acierto de medicos en detectar los linfomas inflamados es menor a 70%.\n",
    "![stride](img\\detection_doctor.png)\n",
    "\n"
   ]
  },
  {
   "cell_type": "markdown",
   "metadata": {},
   "source": [
    "## Carga de Datos\n",
    "\n",
    "**load_data.py**"
   ]
  },
  {
   "cell_type": "code",
   "execution_count": 2,
   "metadata": {},
   "outputs": [],
   "source": [
    "def get_train_set(img_width=128, img_height=128):\n",
    "    if not os.path.exists(\"data/train\"):\n",
    "        generate_train_set(img_width, img_height)\n",
    "    with open(\"data/train\", 'rb') as fp:\n",
    "        train_set = pickle.load(fp)\n",
    "    with open(\"data/train_labels\", 'rb') as fp:\n",
    "        train_labels = pickle.load(fp)\n",
    "    return train_set, train_labels"
   ]
  },
  {
   "cell_type": "code",
   "execution_count": 3,
   "metadata": {},
   "outputs": [],
   "source": [
    "def generate_train_set(img_width=128, img_height=128):\n",
    "    images = get_images(img_width=img_width, img_height=img_height)\n",
    "    labels = get_labels()\n",
    "    train_set_percentage = 0.8  # Cuanto porcentaje de las imágenes uso para el train set.\n",
    "    # normal_cases = [img for i, img in enumerate(images) if labels[i] == 0]\n",
    "    # ptb_cases = [img for i, img in enumerate(images) if labels[i] == 1]\n",
    "    train_set = []\n",
    "    train_labels = []\n",
    "    test_set = []\n",
    "    test_labels = []\n",
    "    for i, c in enumerate(images):\n",
    "        if uniform(0, 1) > train_set_percentage:\n",
    "            test_set.append(c)\n",
    "            test_labels.append(labels[i])\n",
    "        else:\n",
    "            train_set.append(c)\n",
    "            train_labels.append(labels[i])\n",
    "    with open(\"data/train\", 'wb') as fp:\n",
    "        pickle.dump(train_set, fp)\n",
    "    with open(\"data/test\", 'wb') as fp:\n",
    "        pickle.dump(test_set, fp)\n",
    "    with open(\"data/train_labels\", 'wb') as fp:\n",
    "        pickle.dump(train_labels, fp)\n",
    "    with open(\"data/test_labels\", 'wb') as fp:\n",
    "        pickle.dump(test_labels, fp)"
   ]
  },
  {
   "cell_type": "code",
   "execution_count": 4,
   "metadata": {},
   "outputs": [],
   "source": [
    "def save_images(imgs_dir='data/ChinaSet_AllFiles/CXR_png/', img_width=128, img_height=128):\n",
    "    extensions = {\".jpg\", \".png\", \".gif\"}  # etc\n",
    "    # make sure the file is a image\n",
    "    imgs_files = [f for f in os.listdir(imgs_dir) if any(f.endswith(ext) for ext in extensions)]\n",
    "    images = []\n",
    "    for f in imgs_files:\n",
    "        # print(f)\n",
    "        img = cv2.imread(os.path.join(imgs_dir, f), cv2.IMREAD_GRAYSCALE)        # img.shape ~ (3000, 3000)\n",
    "        img = cv2.resize(img, (img_width, img_height))\n",
    "        images.append(img) \n",
    "    with open(\"data/images\", 'wb') as fp:\n",
    "        pickle.dump(images, fp)"
   ]
  },
  {
   "cell_type": "markdown",
   "metadata": {},
   "source": [
    "# Dataset ##\n",
    "El dataset usado para este trabajo cuenta con 662 imagenes anotadas con aproximadamente mitad de las imagenes presentando anomalías y mitad de las imagenes conteniendo pulmones sanos.\n",
    "\n",
    "<td> <img src=\"img/CHNCXR_0448_1.png\" alt=\"Drawing\" style=\"width: 400px;\" /> </td>\n",
    "\n",
    "Si bien las imagenes originales tenían componentes de color  en RGB fueron pasadas a escala de grises ya que la radiografia es monocromática.\n",
    "### Resolución \n",
    "Ya que las imagenes tenían una resolución ampliamente mayor a la necesitada se redujo la misma hasta 128 pixeles para ganar velocidad de procesamiento. Como se puede ver en la imagen la performance de la red no cambia sustancialmente usando 300px o 128 px.\n",
    "![stride](img\\resolucion.png)\n",
    "\n",
    "\n"
   ]
  },
  {
   "cell_type": "markdown",
   "metadata": {},
   "source": [
    "# El Modelo utilizado#\n",
    "\n",
    "Si bien se realizaron pruevas con diferentes numeros de capas y diferentes configuraciones de regularización el modelo utilizado es aproximadamente el siguiente:"
   ]
  },
  {
   "cell_type": "code",
   "execution_count": null,
   "metadata": {},
   "outputs": [],
   "source": [
    "model.add(layers.Conv2D(layer_C1, (3, 3), input_shape=(img_width, img_height, 1)))  # the 1 is because greyscale (1 chan)\n",
    "model.add(layers.BatchNormalization())\n",
    "model.add(layers.Activation(\"relu\"))\n",
    "\n",
    "\n",
    "model.add(layers.MaxPooling2D((2, 2)))\n",
    "model.add(layers.Dropout(droput_L1))\n",
    "\n",
    "\n",
    "model.add(layers.Conv2D(layer_C2, (3, 3)))\n",
    "model.add(layers.BatchNormalization())\n",
    "model.add(layers.Activation(\"relu\"))\n",
    "\n",
    "\n",
    "model.add(layers.MaxPooling2D((2, 2)))\n",
    "model.add(layers.Dropout(droput_L2))\n",
    "\n",
    "\n",
    "model.add(layers.Conv2D(layer_C3, (3, 3)))\n",
    "model.add(layers.BatchNormalization())\n",
    "model.add(layers.Activation(\"relu\"))\n",
    "\n",
    "model.add(layers.MaxPooling2D((2, 2)))\n",
    "\n",
    "model.add(layers.Flatten())\n",
    "model.add(layers.Dropout(dropout_L2))\n",
    "model.add(layers.Dense(dense_layer))\n",
    "model.add(layers.BatchNormalization())\n",
    "model.add(layers.Activation(\"relu\"))\n",
    "\n",
    "model.add(layers.Dense(1))\n",
    "model.add(layers.BatchNormalization())\n",
    "model.add(layers.Activation(\"sigmoid\"))\n",
    "\n",
    "model.compile(\n",
    "    loss='binary_crossentropy',\n",
    "    optimizer=optimizers.Adam(lr=0.00001, beta_1=0.9999, beta_2=0.999, epsilon=None, decay=0.0),\n",
    "    metrics=['acc'])"
   ]
  },
  {
   "cell_type": "markdown",
   "metadata": {},
   "source": [
    "![stride](img\\graph.png)"
   ]
  },
  {
   "cell_type": "markdown",
   "metadata": {},
   "source": [
    "# Hiperparametros a encontrar\n",
    "Los parámetros configurables para los cuales buscamos los valores óptimos son los siquientes:\n",
    "- Cantidad de capas\n",
    "- Tamaño de las capas\n",
    "- Capas de pooling\n",
    "- Regularización\n",
    "- Tamaño de los kernels\n",
    "\n",
    "Para aislar cada parámetro se realizaron pruebas manteniendo constante todos los restantes\n",
    "## Cantidad de capas \n",
    "![stride](img\\capas.png)\n",
    "Como se puede ver en la imagen los mejores resultados fueron obtenidos usando solamente dos capas convolucionales en la red, la razón puede deberse a que teniendo un dataset reducido evita el overfitting de mejor manera tener una menor cantidad de parámetros.\n",
    "## Tamaño de las capas\n",
    "Como se puede ver en la imagen los tamaños de capas más reducidos logran un mejor desempeño, nuevamente la razón puede ser el dataset reducido y el overfitting.\n",
    "![stride](img\\tamaños.png)\n",
    "## Pooling\n",
    "Las capas de pooling pese a disminuir el tiempo de computo de forma notable, terminaron empeorando la performance de la red.\n",
    "![stride](img\\pooling.png)\n",
    "## Regularización\n",
    "La regularización no produjo mejoras notables pero se encontró que para lambda chico se obtuvieron los mejores resultados.\n",
    "![stride](img\\reg.png)\n",
    "## Tamaño de los kernels\n",
    "Se probaron kernels de 3x3 y de 5x5 y se encontró que con los de 3x3 se obtienen mejores resultados. \n",
    "![stride](img\\kernels.png)\n",
    "# Mejores resultados\n",
    "Los mejores resultados fueron obtenidos para una red de dos capas convolucionales sin regularización ni pooling con kernels de 3x3.\n",
    "![stride](img\\best_run.png)\n",
    "![stride](img\\CMB.jpg)\n",
    "Separando de diferente forma el dataset con un shuffle de las imagenes y los labels se obtuvieron diferentes resultados, por ejemplo la siguientes imagenes.\n",
    "![stride](img\\second_best.png)\n",
    "![stride](img\\CMSB.jpg)\n"
   ]
  },
  {
   "cell_type": "code",
   "execution_count": null,
   "metadata": {},
   "outputs": [],
   "source": []
  }
 ],
 "metadata": {
  "kernelspec": {
   "display_name": "Python 3",
   "language": "python",
   "name": "python3"
  },
  "language_info": {
   "codemirror_mode": {
    "name": "ipython",
    "version": 3
   },
   "file_extension": ".py",
   "mimetype": "text/x-python",
   "name": "python",
   "nbconvert_exporter": "python",
   "pygments_lexer": "ipython3",
   "version": "3.6.5"
  },
  "toc": {
   "colors": {
    "hover_highlight": "#DAA520",
    "navigate_num": "#000000",
    "navigate_text": "#333333",
    "running_highlight": "#FF0000",
    "selected_highlight": "#FFD700",
    "sidebar_border": "#EEEEEE",
    "wrapper_background": "#FFFFFF"
   },
   "moveMenuLeft": true,
   "nav_menu": {
    "height": "178px",
    "width": "252px"
   },
   "navigate_menu": true,
   "number_sections": true,
   "sideBar": true,
   "threshold": 4,
   "toc_cell": false,
   "toc_section_display": "block",
   "toc_window_display": true,
   "widenNotebook": false
  }
 },
 "nbformat": 4,
 "nbformat_minor": 2
}
